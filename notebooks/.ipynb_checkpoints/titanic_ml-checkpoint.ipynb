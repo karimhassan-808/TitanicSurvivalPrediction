{
 "cells": [
  {
   "cell_type": "code",
   "execution_count": 52,
   "id": "20756227-423d-4365-8502-86cfd3ee532b",
   "metadata": {},
   "outputs": [],
   "source": [
    "import pandas as pd\n",
    "import numpy as np\n",
    "from sklearn.model_selection import train_test_split\n",
    "from sklearn.tree import DecisionTreeClassifier\n",
    "from sklearn.metrics import accuracy_score, classification_report, precision_score, recall_score, f1_score, roc_auc_score\n",
    "from sklearn.model_selection import GridSearchCV\n",
    "import joblib\n",
    "import warnings\n",
    "warnings.filterwarnings('ignore')  # silence annoying warnings"
   ]
  },
  {
   "cell_type": "code",
   "execution_count": 53,
   "id": "aa235316-6208-43e6-b5e4-2271733209c4",
   "metadata": {},
   "outputs": [],
   "source": [
    "results = []\n",
    "def evaluate_model(name, model, X_test, y_test, results):\n",
    "    y_pred = model.predict(X_test)\n",
    "    try:\n",
    "        y_prob = model.predict_proba(X_test)[:, 1]\n",
    "        roc_auc = roc_auc_score(y_test, y_prob)\n",
    "    except AttributeError:\n",
    "        y_prob = None\n",
    "        roc_auc = None\n",
    "\n",
    "    accuracy = accuracy_score(y_test, y_pred)\n",
    "    precision = precision_score(y_test, y_pred)\n",
    "    recall = recall_score(y_test, y_pred)\n",
    "    f1 = f1_score(y_test, y_pred)\n",
    "\n",
    "    results.append({\n",
    "        'Model': name,\n",
    "        'Accuracy': accuracy,\n",
    "        'Precision': precision,\n",
    "        'Recall': recall,\n",
    "        'F1 Score': f1,\n",
    "        'ROC-AUC': roc_auc\n",
    "    })"
   ]
  },
  {
   "cell_type": "markdown",
   "id": "175a15f7-5468-4d7f-a68f-9898f825b368",
   "metadata": {},
   "source": [
    "## preparing dataset"
   ]
  },
  {
   "cell_type": "markdown",
   "id": "24d72edd-6360-4234-ab26-2c8dfec01101",
   "metadata": {},
   "source": [
    "### uploading the dataset"
   ]
  },
  {
   "cell_type": "code",
   "execution_count": 54,
   "id": "a6ce4838-97e5-436a-a733-09e0cbd2c070",
   "metadata": {},
   "outputs": [],
   "source": [
    "df = pd.read_csv(\"..\\data\\cleaned_titanic.csv\")"
   ]
  },
  {
   "cell_type": "markdown",
   "id": "24d2be32-14f0-41a3-94fb-0f88002af31f",
   "metadata": {},
   "source": [
    "### deviding the data to variables and target"
   ]
  },
  {
   "cell_type": "code",
   "execution_count": 55,
   "id": "60e8bed0-fe60-4e49-9583-85e4cc8b0b88",
   "metadata": {},
   "outputs": [],
   "source": [
    "X = df.drop(columns=['Survived', 'PassengerId'])  # input features\n",
    "y = df['Survived']  # target"
   ]
  },
  {
   "cell_type": "markdown",
   "id": "76977b01-92f3-4dad-bcd4-138e1800a255",
   "metadata": {},
   "source": [
    "### spilitting the data into training and testing "
   ]
  },
  {
   "cell_type": "code",
   "execution_count": 56,
   "id": "a2eb5baa-7cb0-4596-8017-eadb952f2d42",
   "metadata": {},
   "outputs": [],
   "source": [
    "X_train, X_val, y_train, y_val = train_test_split(\n",
    "    X, y, test_size=0.2, random_state=42\n",
    ")"
   ]
  },
  {
   "cell_type": "markdown",
   "id": "75c8b7ba-0bf7-4e03-97fa-270c01c8a341",
   "metadata": {},
   "source": [
    "## model training"
   ]
  },
  {
   "cell_type": "code",
   "execution_count": 57,
   "id": "4fadb204-33a6-4a51-8cbf-6ff8cee78bac",
   "metadata": {},
   "outputs": [
    {
     "name": "stdout",
     "output_type": "stream",
     "text": [
      "Accuracy: 0.7877094972067039\n"
     ]
    }
   ],
   "source": [
    "dt_model = DecisionTreeClassifier(random_state=42)\n",
    "dt_model.fit(X_train, y_train)\n",
    "\n",
    "y_pred = dt_model.predict(X_val)  # Predict using the validation set\n",
    "print(\"Accuracy:\", accuracy_score(y_val, y_pred))  # Check accuracy\n",
    "evaluate_model(\"Decision Tree\", dt_model, X_val, y_val, results)"
   ]
  },
  {
   "cell_type": "code",
   "execution_count": 58,
   "id": "77120099-556a-4536-944a-18ebc0fee6cc",
   "metadata": {},
   "outputs": [
    {
     "name": "stdout",
     "output_type": "stream",
     "text": [
      "              precision    recall  f1-score   support\n",
      "\n",
      "           0       0.83      0.81      0.82       105\n",
      "           1       0.74      0.76      0.75        74\n",
      "\n",
      "    accuracy                           0.79       179\n",
      "   macro avg       0.78      0.78      0.78       179\n",
      "weighted avg       0.79      0.79      0.79       179\n",
      "\n"
     ]
    }
   ],
   "source": [
    "print(classification_report(y_val, y_pred))"
   ]
  },
  {
   "cell_type": "markdown",
   "id": "9c63b358-3ccd-495f-b736-8c0bf9e9cec6",
   "metadata": {},
   "source": [
    "## saving the model to be used in the application"
   ]
  },
  {
   "cell_type": "code",
   "execution_count": 59,
   "id": "f5ef4ebe-7929-4dbb-b430-b1b55683365c",
   "metadata": {},
   "outputs": [
    {
     "name": "stdout",
     "output_type": "stream",
     "text": [
      "Model saved!\n"
     ]
    }
   ],
   "source": [
    "joblib.dump(dt_model, \"titanic_decisiontree_model.pkl\")\n",
    "print(\"Model saved!\")"
   ]
  },
  {
   "cell_type": "markdown",
   "id": "a74b84a5-a2db-4c49-acfa-9d0c630df0cc",
   "metadata": {},
   "source": [
    "## Training Another Model for Comparatement Purposes "
   ]
  },
  {
   "cell_type": "markdown",
   "id": "3ceaa53c-fa6e-4401-ba81-b5b4fbb1a111",
   "metadata": {},
   "source": [
    "### LogisticRegression "
   ]
  },
  {
   "cell_type": "code",
   "execution_count": 60,
   "id": "a74ffed9-9a53-4a94-ab14-1e65b57f31e7",
   "metadata": {},
   "outputs": [
    {
     "name": "stdout",
     "output_type": "stream",
     "text": [
      "Accuracy: 0.8100558659217877\n"
     ]
    }
   ],
   "source": [
    "from sklearn.linear_model import LogisticRegression\n",
    "\n",
    "log_model = LogisticRegression(max_iter=1000)\n",
    "log_model.fit(X_train, y_train)\n",
    "y_pred = log_model.predict(X_val)\n",
    "print(\"Accuracy:\", accuracy_score(y_val, y_pred))\n",
    "evaluate_model(\"Logistic Regression\", log_model, X_val, y_val, results)"
   ]
  },
  {
   "cell_type": "markdown",
   "id": "d4f85fa3-96a4-40d1-be58-0a70c9d99921",
   "metadata": {},
   "source": [
    "###  RandomForestClassifier"
   ]
  },
  {
   "cell_type": "code",
   "execution_count": 61,
   "id": "02aa59de-1085-4690-9a43-2eca62a039f1",
   "metadata": {},
   "outputs": [
    {
     "name": "stdout",
     "output_type": "stream",
     "text": [
      "Accuracy: 0.8100558659217877\n"
     ]
    }
   ],
   "source": [
    "from sklearn.ensemble import RandomForestClassifier\n",
    "\n",
    "rf_model = RandomForestClassifier(n_estimators=100, random_state=42)\n",
    "rf_model.fit(X_train, y_train)\n",
    "y_pred = rf_model.predict(X_val)\n",
    "print(\"Accuracy:\", accuracy_score(y_val, y_pred))\n",
    "evaluate_model(\"Random Forest\", rf_model, X_val, y_val, results)"
   ]
  },
  {
   "cell_type": "markdown",
   "id": "a0d3f825-4c8b-4f10-86da-da3e6821d6b4",
   "metadata": {},
   "source": [
    "### KNeighborsClassifier"
   ]
  },
  {
   "cell_type": "code",
   "execution_count": 62,
   "id": "d8fcbd0b-5ecc-422e-9e8a-2dd8a1dca9bb",
   "metadata": {},
   "outputs": [
    {
     "name": "stdout",
     "output_type": "stream",
     "text": [
      "Accuracy: 0.7150837988826816\n"
     ]
    }
   ],
   "source": [
    "from sklearn.neighbors import KNeighborsClassifier\n",
    "\n",
    "knn_model = KNeighborsClassifier(n_neighbors=5)\n",
    "knn_model.fit(X_train, y_train)\n",
    "y_pred = knn_model.predict(X_val)\n",
    "print(\"Accuracy:\", accuracy_score(y_val, y_pred))\n",
    "evaluate_model(\"KNN\", knn_model, X_val, y_val, results)"
   ]
  },
  {
   "cell_type": "markdown",
   "id": "e87bc074-bfb4-4da9-ac0a-1995760c77be",
   "metadata": {},
   "source": [
    "###  XGBoost"
   ]
  },
  {
   "cell_type": "code",
   "execution_count": 63,
   "id": "fd2c7e44-95b4-4154-b50c-abef274c0a38",
   "metadata": {},
   "outputs": [
    {
     "name": "stdout",
     "output_type": "stream",
     "text": [
      "Accuracy: 0.659217877094972\n"
     ]
    }
   ],
   "source": [
    "from sklearn.svm import SVC\n",
    "\n",
    "xgb_model = SVC(kernel='rbf', probability=True)\n",
    "xgb_model.fit(X_train, y_train)\n",
    "y_pred = xgb_model.predict(X_val)\n",
    "print(\"Accuracy:\", accuracy_score(y_val, y_pred))\n",
    "evaluate_model(\"XGBoost\", xgb_model, X_val, y_val, results)"
   ]
  },
  {
   "cell_type": "markdown",
   "id": "0e3c66fe-cc88-437b-9600-6027d3397215",
   "metadata": {},
   "source": [
    "## show model comparison"
   ]
  },
  {
   "cell_type": "code",
   "execution_count": 65,
   "id": "3b6a3eaf-c597-4f73-b817-41545c17d912",
   "metadata": {},
   "outputs": [
    {
     "data": {
      "text/html": [
       "<div>\n",
       "<style scoped>\n",
       "    .dataframe tbody tr th:only-of-type {\n",
       "        vertical-align: middle;\n",
       "    }\n",
       "\n",
       "    .dataframe tbody tr th {\n",
       "        vertical-align: top;\n",
       "    }\n",
       "\n",
       "    .dataframe thead th {\n",
       "        text-align: right;\n",
       "    }\n",
       "</style>\n",
       "<table border=\"1\" class=\"dataframe\">\n",
       "  <thead>\n",
       "    <tr style=\"text-align: right;\">\n",
       "      <th></th>\n",
       "      <th>Model</th>\n",
       "      <th>Accuracy</th>\n",
       "      <th>Precision</th>\n",
       "      <th>Recall</th>\n",
       "      <th>F1 Score</th>\n",
       "      <th>ROC-AUC</th>\n",
       "    </tr>\n",
       "  </thead>\n",
       "  <tbody>\n",
       "    <tr>\n",
       "      <th>2</th>\n",
       "      <td>Random Forest</td>\n",
       "      <td>0.810056</td>\n",
       "      <td>0.770270</td>\n",
       "      <td>0.770270</td>\n",
       "      <td>0.770270</td>\n",
       "      <td>0.892535</td>\n",
       "    </tr>\n",
       "    <tr>\n",
       "      <th>1</th>\n",
       "      <td>Logistic Regression</td>\n",
       "      <td>0.810056</td>\n",
       "      <td>0.785714</td>\n",
       "      <td>0.743243</td>\n",
       "      <td>0.763889</td>\n",
       "      <td>0.882625</td>\n",
       "    </tr>\n",
       "    <tr>\n",
       "      <th>0</th>\n",
       "      <td>Decision Tree</td>\n",
       "      <td>0.787709</td>\n",
       "      <td>0.736842</td>\n",
       "      <td>0.756757</td>\n",
       "      <td>0.746667</td>\n",
       "      <td>0.803475</td>\n",
       "    </tr>\n",
       "    <tr>\n",
       "      <th>3</th>\n",
       "      <td>KNN</td>\n",
       "      <td>0.715084</td>\n",
       "      <td>0.709091</td>\n",
       "      <td>0.527027</td>\n",
       "      <td>0.604651</td>\n",
       "      <td>0.763192</td>\n",
       "    </tr>\n",
       "    <tr>\n",
       "      <th>4</th>\n",
       "      <td>XGBoost</td>\n",
       "      <td>0.659218</td>\n",
       "      <td>0.760000</td>\n",
       "      <td>0.256757</td>\n",
       "      <td>0.383838</td>\n",
       "      <td>0.804118</td>\n",
       "    </tr>\n",
       "  </tbody>\n",
       "</table>\n",
       "</div>"
      ],
      "text/plain": [
       "                 Model  Accuracy  Precision    Recall  F1 Score   ROC-AUC\n",
       "2        Random Forest  0.810056   0.770270  0.770270  0.770270  0.892535\n",
       "1  Logistic Regression  0.810056   0.785714  0.743243  0.763889  0.882625\n",
       "0        Decision Tree  0.787709   0.736842  0.756757  0.746667  0.803475\n",
       "3                  KNN  0.715084   0.709091  0.527027  0.604651  0.763192\n",
       "4              XGBoost  0.659218   0.760000  0.256757  0.383838  0.804118"
      ]
     },
     "execution_count": 65,
     "metadata": {},
     "output_type": "execute_result"
    }
   ],
   "source": [
    "df_results = pd.DataFrame(results)\n",
    "df_results.sort_values(by=\"F1 Score\", ascending=False)"
   ]
  },
  {
   "cell_type": "markdown",
   "id": "b5d0a9f1-0414-46f4-bfb8-57317bb07b4d",
   "metadata": {},
   "source": [
    "## using the randomforest model cuz it has the best F1 and ROC-AUC, meaning it balances precision & recall and has strong probabilistic separation"
   ]
  },
  {
   "cell_type": "code",
   "execution_count": 66,
   "id": "154f6e7a-f532-41a9-9b28-dadd34ab9c32",
   "metadata": {},
   "outputs": [
    {
     "name": "stdout",
     "output_type": "stream",
     "text": [
      "Model saved!\n"
     ]
    }
   ],
   "source": [
    "joblib.dump(rf_model, \"titanic_randomforest_model.pkl\")\n",
    "print(\"Model saved!\")"
   ]
  },
  {
   "cell_type": "code",
   "execution_count": null,
   "id": "09e33d9f-8ed4-45bf-818b-23e24c3e8c0a",
   "metadata": {},
   "outputs": [],
   "source": []
  }
 ],
 "metadata": {
  "kernelspec": {
   "display_name": "Python 3 (ipykernel)",
   "language": "python",
   "name": "python3"
  },
  "language_info": {
   "codemirror_mode": {
    "name": "ipython",
    "version": 3
   },
   "file_extension": ".py",
   "mimetype": "text/x-python",
   "name": "python",
   "nbconvert_exporter": "python",
   "pygments_lexer": "ipython3",
   "version": "3.12.7"
  }
 },
 "nbformat": 4,
 "nbformat_minor": 5
}
